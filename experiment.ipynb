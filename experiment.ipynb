{
 "cells": [
  {
   "cell_type": "markdown",
   "id": "4e7676a6",
   "metadata": {},
   "source": [
    "# %% [markdown]\n",
    "# # Pygame Experimentation Notebook\n",
    "#\n",
    "# Use this notebook to try out individual Pygame features and concepts in isolation.\n",
    "# Remember: The full game loop with real-time updates and event handling works best in a standard `.py` script. This notebook is for understanding components.\n"
   ]
  },
  {
   "cell_type": "code",
   "execution_count": 1,
   "id": "1b6d6866",
   "metadata": {},
   "outputs": [
    {
     "name": "stdout",
     "output_type": "stream",
     "text": [
      "pygame 2.6.1 (SDL 2.28.4, Python 3.11.5)\n",
      "Hello from the pygame community. https://www.pygame.org/contribute.html\n"
     ]
    }
   ],
   "source": [
    "import pygame\n",
    "import os # To help position the window\n",
    "\n",
    "# --- Position the Pygame window (optional, helps manage screen layout) ---\n",
    "# If you don't include this, the window might appear anywhere.\n",
    "# Adjust the x, y coordinates as needed for your screen setup.\n",
    "# os.environ['SDL_VIDEO_WINDOW_POS'] = \"%d,%d\" % (100, 100) # Example: Position at x=100, y=100\n"
   ]
  },
  {
   "cell_type": "code",
   "execution_count": 2,
   "id": "bcade04c",
   "metadata": {},
   "outputs": [
    {
     "name": "stdout",
     "output_type": "stream",
     "text": [
      "Pygame initialized successfully!\n"
     ]
    }
   ],
   "source": [
    "pygame.init()\n",
    "print(\"Pygame initialized successfully!\")\n",
    "\n",
    "# Define some basic colors (RGB tuples)\n",
    "WHITE = (255, 255, 255)\n",
    "BLACK = (0, 0, 0)\n",
    "RED = (255, 0, 0)\n",
    "GREEN = (0, 255, 0)\n",
    "BLUE = (0, 0, 255)    "
   ]
  },
  {
   "cell_type": "code",
   "execution_count": 3,
   "id": "58b8c104",
   "metadata": {},
   "outputs": [],
   "source": [
    "# screen_width = 400\n",
    "# screen_height = 300\n",
    "# screen = pygame.display.set_mode((screen_width, screen_height))\n",
    "# pygame.display.set_caption(\"Drawing Test\")\n",
    "# screen.fill(WHITE) # Fill background\n",
    "# pygame.display.flip() # Update the display to show the white background\n",
    "# print(\"Display window created (may close quickly).\")"
   ]
  },
  {
   "cell_type": "code",
   "execution_count": 4,
   "id": "ae599974",
   "metadata": {},
   "outputs": [
    {
     "name": "stdout",
     "output_type": "stream",
     "text": [
      "Created an off-screen drawing surface.\n"
     ]
    }
   ],
   "source": [
    "canvas_width = 300\n",
    "canvas_height = 200\n",
    "drawing_surface = pygame.Surface((canvas_width, canvas_height))\n",
    "drawing_surface.fill(WHITE) # Start with a white background\n",
    "print(\"Created an off-screen drawing surface.\")\n",
    "\n",
    "# You won't *see* this surface directly, but you can draw on it and potentially save it.\n"
   ]
  },
  {
   "cell_type": "code",
   "execution_count": 5,
   "id": "044b957b",
   "metadata": {},
   "outputs": [
    {
     "name": "stdout",
     "output_type": "stream",
     "text": [
      "Drew shapes onto the off-screen surface.\n"
     ]
    }
   ],
   "source": [
    "# border_width = 0 means fill the shape\n",
    "pygame.draw.rect(drawing_surface, RED, (50, 50, 100, 60), 0) # Filled red rectangle\n",
    "\n",
    "# Draw a Circle: pygame.draw.circle(surface, color, (center_x, center_y), radius, border_width)\n",
    "pygame.draw.circle(drawing_surface, BLUE, (200, 80), 30, 0) # Filled blue circle\n",
    "\n",
    "# Draw a Line: pygame.draw.line(surface, color, (start_x, start_y), (end_x, end_y), thickness)\n",
    "pygame.draw.line(drawing_surface, GREEN, (10, 150), (290, 150), 5) # Thick green line\n",
    "\n",
    "print(\"Drew shapes onto the off-screen surface.\")\n"
   ]
  },
  {
   "cell_type": "code",
   "execution_count": null,
   "id": "9f311302",
   "metadata": {},
   "outputs": [
    {
     "name": "stdout",
     "output_type": "stream",
     "text": [
      "Saved drawing to drawing_test.png\n"
     ]
    }
   ],
   "source": [
    " pygame.image.save(drawing_surface, \"drawing_test.png\")\n",
    "print(\"Saved drawing to drawing_test.png\")"
   ]
  },
  {
   "cell_type": "code",
   "execution_count": 8,
   "id": "bbbe4c6b",
   "metadata": {},
   "outputs": [
    {
     "name": "stdout",
     "output_type": "stream",
     "text": [
      "Rect 1: <rect(10, 20, 50, 40)>\n",
      "Rect 1 - Top: 20, Left: 10\n",
      "Rect 1 - Center X: 35, Center Y: 40\n",
      "Rect 1 - Size: (50, 40)\n"
     ]
    }
   ],
   "source": [
    "# Method 1: (left, top, width, height)\n",
    "my_rect = pygame.Rect(10, 20, 50, 40)\n",
    "print(f\"Rect 1: {my_rect}\")\n",
    "print(f\"Rect 1 - Top: {my_rect.top}, Left: {my_rect.left}\")\n",
    "print(f\"Rect 1 - Center X: {my_rect.centerx}, Center Y: {my_rect.centery}\")\n",
    "print(f\"Rect 1 - Size: {my_rect.size}\")\n",
    "\n",
    "\n",
    "# Check for collision between two rects\n",
    "rect_a = pygame.Rect(0, 0, 50, 50)\n",
    "rect_b = pygame.Rect(40, 40, 50, 50)\n",
    "rect_c = pygame.Rect(100, 100, 20, 20)\n"
   ]
  },
  {
   "cell_type": "code",
   "execution_count": 9,
   "id": "74126bd4",
   "metadata": {},
   "outputs": [
    {
     "name": "stdout",
     "output_type": "stream",
     "text": [
      "\n",
      "Rect 2 (from surface): <rect(100, 100, 80, 30)>\n",
      "Rect 2 - Bottom Right: (180, 130)\n"
     ]
    }
   ],
   "source": [
    "# Method 2: Create from an object with a get_rect() method (like a Surface)\n",
    "# Let's make a small temporary surface\n",
    "temp_surf = pygame.Surface((80, 30))\n",
    "rect_from_surf = temp_surf.get_rect()\n",
    "rect_from_surf.topleft = (100, 100) # Position it\n",
    "print(f\"\\nRect 2 (from surface): {rect_from_surf}\")\n",
    "print(f\"Rect 2 - Bottom Right: {rect_from_surf.bottomright}\")\n"
   ]
  },
  {
   "cell_type": "code",
   "execution_count": 11,
   "id": "718cea25",
   "metadata": {},
   "outputs": [
    {
     "name": "stdout",
     "output_type": "stream",
     "text": [
      "\n",
      "Collision A & B? True\n",
      "Collision A & C? False\n"
     ]
    }
   ],
   "source": [
    "# Check for collision between two rects\n",
    "rect_a = pygame.Rect(0, 0, 50, 50)\n",
    "rect_b = pygame.Rect(40, 40, 50, 50)\n",
    "rect_c = pygame.Rect(100, 100, 20, 20)\n",
    "print(f\"\\nCollision A & B? {rect_a.colliderect(rect_b)}\") # Should be True (overlap)\n",
    "print(f\"Collision A & C? {rect_a.colliderect(rect_c)}\") # Should be False (no overlap)\n",
    "\n"
   ]
  },
  {
   "cell_type": "code",
   "execution_count": 12,
   "id": "5c916877",
   "metadata": {},
   "outputs": [
    {
     "name": "stdout",
     "output_type": "stream",
     "text": [
      "Rect A after move: <rect(10, 5, 50, 50)>\n"
     ]
    }
   ],
   "source": [
    "# Move a rect\n",
    "rect_a.move_ip(10, 5) # Move in-place by 10px right, 5px down\n",
    "print(f\"Rect A after move: {rect_a}\")\n"
   ]
  },
  {
   "cell_type": "code",
   "execution_count": null,
   "id": "700144e8",
   "metadata": {},
   "outputs": [],
   "source": [
    "try:\n",
    "    # Attempt to load an image (replace 'player.png' with an actual image file)\n",
    "    player_image = pygame.image.load(\"player.png\") # Make sure this file exists!\n",
    "    player_image = player_image.convert_alpha() # Optimize image format (handles transparency)\n",
    "    player_rect = player_image.get_rect()\n",
    "\n",
    "    # Position the image on our drawing surface\n",
    "    player_rect.center = (drawing_surface.get_width() // 2, drawing_surface.get_height() // 2)\n",
    "\n",
    "    # Draw the image onto the surface (blit means block transfer)\n",
    "    drawing_surface.blit(player_image, player_rect)\n",
    "\n",
    "    print(\"Loaded and blitted player.png onto the drawing surface.\")"
   ]
  }
 ],
 "metadata": {
  "kernelspec": {
   "display_name": "base",
   "language": "python",
   "name": "python3"
  },
  "language_info": {
   "codemirror_mode": {
    "name": "ipython",
    "version": 3
   },
   "file_extension": ".py",
   "mimetype": "text/x-python",
   "name": "python",
   "nbconvert_exporter": "python",
   "pygments_lexer": "ipython3",
   "version": "3.11.5"
  }
 },
 "nbformat": 4,
 "nbformat_minor": 5
}
