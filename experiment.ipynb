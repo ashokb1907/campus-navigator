{
 "cells": [
  {
   "cell_type": "markdown",
   "id": "4e7676a6",
   "metadata": {},
   "source": [
    "# %% [markdown]\n",
    "# # Pygame Experimentation Notebook\n",
    "#\n",
    "# Use this notebook to try out individual Pygame features and concepts in isolation.\n",
    "# Remember: The full game loop with real-time updates and event handling works best in a standard `.py` script. This notebook is for understanding components.\n"
   ]
  },
  {
   "cell_type": "code",
   "execution_count": 18,
   "id": "a9034409",
   "metadata": {},
   "outputs": [],
   "source": [
    "# !pip install pygame"
   ]
  },
  {
   "cell_type": "code",
   "execution_count": 19,
   "id": "1b6d6866",
   "metadata": {},
   "outputs": [],
   "source": [
    "import pygame\n",
    "import os # To help position the window\n",
    "\n",
    "# --- Position the Pygame window (optional, helps manage screen layout) ---\n",
    "# If you don't include this, the window might appear anywhere.\n",
    "# Adjust the x, y coordinates as needed for your screen setup.\n",
    "# os.environ['SDL_VIDEO_WINDOW_POS'] = \"%d,%d\" % (100, 100) # Example: Position at x=100, y=100\n"
   ]
  },
  {
   "cell_type": "code",
   "execution_count": 20,
   "id": "bcade04c",
   "metadata": {},
   "outputs": [
    {
     "name": "stdout",
     "output_type": "stream",
     "text": [
      "Pygame initialized successfully!\n"
     ]
    }
   ],
   "source": [
    "pygame.init()\n",
    "print(\"Pygame initialized successfully!\")\n",
    "\n",
    "# Define some basic colors (RGB tuples)\n",
    "WHITE = (255, 255, 255)\n",
    "BLACK = (0, 0, 0)\n",
    "RED = (255, 0, 0)\n",
    "GREEN = (0, 255, 0)\n",
    "BLUE = (0, 0, 255)    "
   ]
  },
  {
   "cell_type": "code",
   "execution_count": 21,
   "id": "58b8c104",
   "metadata": {},
   "outputs": [],
   "source": [
    "# screen_width = 400\n",
    "# screen_height = 300\n",
    "# screen = pygame.display.set_mode((screen_width, screen_height))\n",
    "# pygame.display.set_caption(\"Drawing Test\")\n",
    "# screen.fill(WHITE) # Fill background\n",
    "# pygame.display.flip() # Update the display to show the white background\n",
    "# print(\"Display window created (may close quickly).\")"
   ]
  },
  {
   "cell_type": "code",
   "execution_count": 22,
   "id": "ae599974",
   "metadata": {},
   "outputs": [
    {
     "name": "stdout",
     "output_type": "stream",
     "text": [
      "Created an off-screen drawing surface.\n"
     ]
    }
   ],
   "source": [
    "canvas_width = 300\n",
    "canvas_height = 200\n",
    "drawing_surface = pygame.Surface((canvas_width, canvas_height))\n",
    "drawing_surface.fill(WHITE) # Start with a white background\n",
    "print(\"Created an off-screen drawing surface.\")\n",
    "\n",
    "# You won't *see* this surface directly, but you can draw on it and potentially save it.\n"
   ]
  },
  {
   "cell_type": "code",
   "execution_count": 23,
   "id": "044b957b",
   "metadata": {},
   "outputs": [
    {
     "name": "stdout",
     "output_type": "stream",
     "text": [
      "Drew shapes onto the off-screen surface.\n"
     ]
    }
   ],
   "source": [
    "# border_width = 0 means fill the shape\n",
    "pygame.draw.rect(drawing_surface, RED, (50, 50, 100, 60), 0) # Filled red rectangle\n",
    "\n",
    "# Draw a Circle: pygame.draw.circle(surface, color, (center_x, center_y), radius, border_width)\n",
    "pygame.draw.circle(drawing_surface, BLUE, (200, 80), 30, 0) # Filled blue circle\n",
    "\n",
    "# Draw a Line: pygame.draw.line(surface, color, (start_x, start_y), (end_x, end_y), thickness)\n",
    "pygame.draw.line(drawing_surface, GREEN, (10, 150), (290, 150), 5) # Thick green line\n",
    "\n",
    "print(\"Drew shapes onto the off-screen surface.\")\n"
   ]
  },
  {
   "cell_type": "code",
   "execution_count": 24,
   "id": "9f311302",
   "metadata": {},
   "outputs": [
    {
     "name": "stdout",
     "output_type": "stream",
     "text": [
      "Saved drawing to drawing_test.png\n"
     ]
    }
   ],
   "source": [
    " pygame.image.save(drawing_surface, \"drawing_test.png\")\n",
    "print(\"Saved drawing to drawing_test.png\")"
   ]
  },
  {
   "cell_type": "code",
   "execution_count": 25,
   "id": "bbbe4c6b",
   "metadata": {},
   "outputs": [
    {
     "name": "stdout",
     "output_type": "stream",
     "text": [
      "Rect 1: <rect(10, 20, 50, 40)>\n",
      "Rect 1 - Top: 20, Left: 10\n",
      "Rect 1 - Center X: 35, Center Y: 40\n",
      "Rect 1 - Size: (50, 40)\n"
     ]
    }
   ],
   "source": [
    "# Method 1: (left, top, width, height)\n",
    "my_rect = pygame.Rect(10, 20, 50, 40)\n",
    "print(f\"Rect 1: {my_rect}\")\n",
    "print(f\"Rect 1 - Top: {my_rect.top}, Left: {my_rect.left}\")\n",
    "print(f\"Rect 1 - Center X: {my_rect.centerx}, Center Y: {my_rect.centery}\")\n",
    "print(f\"Rect 1 - Size: {my_rect.size}\")\n",
    "\n",
    "\n",
    "# Check for collision between two rects\n",
    "rect_a = pygame.Rect(0, 0, 50, 50)\n",
    "rect_b = pygame.Rect(40, 40, 50, 50)\n",
    "rect_c = pygame.Rect(100, 100, 20, 20)\n"
   ]
  },
  {
   "cell_type": "code",
   "execution_count": 26,
   "id": "74126bd4",
   "metadata": {},
   "outputs": [
    {
     "name": "stdout",
     "output_type": "stream",
     "text": [
      "\n",
      "Rect 2 (from surface): <rect(100, 100, 80, 30)>\n",
      "Rect 2 - Bottom Right: (180, 130)\n"
     ]
    }
   ],
   "source": [
    "# Method 2: Create from an object with a get_rect() method (like a Surface)\n",
    "# Let's make a small temporary surface\n",
    "temp_surf = pygame.Surface((80, 30))\n",
    "rect_from_surf = temp_surf.get_rect()\n",
    "rect_from_surf.topleft = (100, 100) # Position it\n",
    "print(f\"\\nRect 2 (from surface): {rect_from_surf}\")\n",
    "print(f\"Rect 2 - Bottom Right: {rect_from_surf.bottomright}\")\n"
   ]
  },
  {
   "cell_type": "code",
   "execution_count": 27,
   "id": "718cea25",
   "metadata": {},
   "outputs": [
    {
     "name": "stdout",
     "output_type": "stream",
     "text": [
      "\n",
      "Collision A & B? True\n",
      "Collision A & C? False\n"
     ]
    }
   ],
   "source": [
    "# Check for collision between two rects\n",
    "rect_a = pygame.Rect(0, 0, 50, 50)\n",
    "rect_b = pygame.Rect(40, 40, 50, 50)\n",
    "rect_c = pygame.Rect(100, 100, 20, 20)\n",
    "print(f\"\\nCollision A & B? {rect_a.colliderect(rect_b)}\") # Should be True (overlap)\n",
    "print(f\"Collision A & C? {rect_a.colliderect(rect_c)}\") # Should be False (no overlap)\n",
    "\n"
   ]
  },
  {
   "cell_type": "code",
   "execution_count": 28,
   "id": "5c916877",
   "metadata": {},
   "outputs": [
    {
     "name": "stdout",
     "output_type": "stream",
     "text": [
      "Rect A after move: <rect(10, 5, 50, 50)>\n"
     ]
    }
   ],
   "source": [
    "# Move a rect\n",
    "rect_a.move_ip(10, 5) # Move in-place by 10px right, 5px down\n",
    "print(f\"Rect A after move: {rect_a}\")\n"
   ]
  },
  {
   "cell_type": "code",
   "execution_count": 29,
   "id": "700144e8",
   "metadata": {},
   "outputs": [
    {
     "name": "stdout",
     "output_type": "stream",
     "text": [
      "Loaded and blitted player.png onto the drawing surface.\n"
     ]
    }
   ],
   "source": [
    "### CODE CELL ###\n",
    "# %%\n",
    "# --- Ensure a display mode is set before converting images ---\n",
    "# We need this even if we draw mainly on off-screen surfaces,\n",
    "# because convert() and convert_alpha() depend on the display format.\n",
    "# We can create a minimal, temporary display for this purpose.\n",
    "try:\n",
    "    # Set a minimal display mode if one isn't already set\n",
    "    # This won't be visible long in the notebook but initializes the display module\n",
    "    _ = pygame.display.set_mode((1, 1), pygame.NOFRAME)\n",
    "except pygame.error as e:\n",
    "    # If display is already set (e.g., from event test cell), ignore error\n",
    "    if \"video system not initialized\" not in str(e): # Check if it's not the init error\n",
    "         if \"display Surface already created\" not in str(e): # Check if it's not the already created error\n",
    "              print(f\"Note: Display might already be set or another issue: {e}\")\n",
    "\n",
    "\n",
    "# --- Now attempt to load and convert the image ---\n",
    "try:\n",
    "    # Attempt to load an image (replace 'player.png' with an actual image file)\n",
    "    player_image = pygame.image.load(\"player.png\") # Make sure this file exists!\n",
    "    player_image = player_image.convert_alpha() # Optimize image format (handles transparency)\n",
    "    player_rect = player_image.get_rect()\n",
    "\n",
    "    # Position the image on our drawing surface\n",
    "    player_rect.center = (drawing_surface.get_width() // 2, drawing_surface.get_height() // 2)\n",
    "\n",
    "    # Draw the image onto the surface (blit means block transfer)\n",
    "    drawing_surface.blit(player_image, player_rect)\n",
    "\n",
    "    print(\"Loaded and blitted player.png onto the drawing surface.\")\n",
    "    # You could save the surface again to see the result:\n",
    "    # pygame.image.save(drawing_surface, \"drawing_with_image.png\")\n",
    "    # print(\"Saved drawing to drawing_with_image.png\")\n",
    "\n",
    "except pygame.error as e:\n",
    "    print(f\"Error loading image 'player.png': {e}\")\n",
    "    print(\"Please make sure 'player.png' exists in the same directory as this notebook.\")"
   ]
  },
  {
   "cell_type": "code",
   "execution_count": 30,
   "id": "322a5559",
   "metadata": {},
   "outputs": [
    {
     "name": "stdout",
     "output_type": "stream",
     "text": [
      "Loaded default system font, size 30\n"
     ]
    }
   ],
   "source": [
    "try:\n",
    "    font_size = 30\n",
    "    my_font = pygame.font.SysFont(None, font_size) # None uses a default system font\n",
    "    print(f\"Loaded default system font, size {font_size}\")\n",
    "except Exception as e:\n",
    "    print(f\"Could not load default system font: {e}\")\n",
    "    # Fallback: Use the basic pygame font object if SysFont fails\n",
    "    my_font = pygame.font.Font(None, font_size)\n",
    "    print(f\"Using basic Pygame font, size {font_size}\")\n",
    "\n"
   ]
  },
  {
   "cell_type": "code",
   "execution_count": 31,
   "id": "917834e9",
   "metadata": {},
   "outputs": [
    {
     "name": "stdout",
     "output_type": "stream",
     "text": [
      "Rendered text onto the drawing surface.\n"
     ]
    }
   ],
   "source": [
    "text_surface = my_font.render(\"Hello Pygame!\", True, BLACK) # True for anti-aliasing\n",
    "text_rect = text_surface.get_rect()\n",
    "\n",
    "# Position the text (e.g., top center)\n",
    "text_rect.centerx = drawing_surface.get_width() // 2\n",
    "text_rect.y = 10 # 10 pixels from the top\n",
    "\n",
    "# Blit the text surface onto our main drawing surface\n",
    "drawing_surface.blit(text_surface, text_rect)\n",
    "\n",
    "print(\"Rendered text onto the drawing surface.\")"
   ]
  },
  {
   "cell_type": "code",
   "execution_count": 32,
   "id": "ea10bd7c",
   "metadata": {},
   "outputs": [],
   "source": [
    "screen_event_test = pygame.display.set_mode((300, 200))\n",
    "pygame.display.set_caption(\"Event Test (Interact!)\")\n",
    "screen_event_test.fill(WHITE)\n",
    "pygame.display.flip()"
   ]
  },
  {
   "cell_type": "code",
   "execution_count": 33,
   "id": "5a891496",
   "metadata": {},
   "outputs": [
    {
     "name": "stdout",
     "output_type": "stream",
     "text": [
      "Event test window created. Interact with it now (press keys, click, move mouse)...\n",
      "<Event(1541-JoyDeviceAdded {'device_index': 0, 'guid': '030056fb7e0500000920000000026803'})>\n",
      "<Event(4352-AudioDeviceAdded {'which': 0, 'iscapture': 0})>\n",
      "<Event(4352-AudioDeviceAdded {'which': 1, 'iscapture': 0})>\n",
      "<Event(4352-AudioDeviceAdded {'which': 0, 'iscapture': 1})>\n",
      "<Event(4352-AudioDeviceAdded {'which': 1, 'iscapture': 1})>\n",
      "<Event(32774-WindowShown {'window': None})>\n",
      "<Event(32768-ActiveEvent {'gain': 1, 'state': 2})>\n",
      "<Event(32785-WindowFocusGained {'window': None})>\n",
      "<Event(770-TextEditing {'text': '', 'start': 0, 'length': 0, 'window': None})>\n",
      "<Event(32779-WindowSizeChanged {'x': 300, 'y': 200, 'window': None})>\n",
      "<Event(32770-VideoExpose {})>\n",
      "<Event(32776-WindowExposed {'window': None})>\n",
      "<Event(32768-ActiveEvent {'gain': 1, 'state': 1})>\n",
      "<Event(32783-WindowEnter {'window': None})>\n",
      "<Event(1024-MouseMotion {'pos': (67, 1), 'rel': (0, 0), 'buttons': (0, 0, 0), 'touch': False, 'window': None})>\n",
      "<Event(1024-MouseMotion {'pos': (69, 6), 'rel': (2, 5), 'buttons': (0, 0, 0), 'touch': False, 'window': None})>\n",
      "<Event(1024-MouseMotion {'pos': (71, 9), 'rel': (2, 3), 'buttons': (0, 0, 0), 'touch': False, 'window': None})>\n",
      "<Event(1024-MouseMotion {'pos': (72, 11), 'rel': (1, 2), 'buttons': (0, 0, 0), 'touch': False, 'window': None})>\n",
      "<Event(1024-MouseMotion {'pos': (74, 14), 'rel': (2, 3), 'buttons': (0, 0, 0), 'touch': False, 'window': None})>\n",
      "<Event(1024-MouseMotion {'pos': (75, 16), 'rel': (1, 2), 'buttons': (0, 0, 0), 'touch': False, 'window': None})>\n",
      "<Event(1024-MouseMotion {'pos': (76, 19), 'rel': (1, 3), 'buttons': (0, 0, 0), 'touch': False, 'window': None})>\n",
      "<Event(1024-MouseMotion {'pos': (79, 21), 'rel': (3, 2), 'buttons': (0, 0, 0), 'touch': False, 'window': None})>\n",
      "<Event(1024-MouseMotion {'pos': (79, 22), 'rel': (0, 1), 'buttons': (0, 0, 0), 'touch': False, 'window': None})>\n",
      "<Event(1024-MouseMotion {'pos': (80, 23), 'rel': (1, 1), 'buttons': (0, 0, 0), 'touch': False, 'window': None})>\n",
      "<Event(1024-MouseMotion {'pos': (82, 25), 'rel': (2, 2), 'buttons': (0, 0, 0), 'touch': False, 'window': None})>\n",
      "<Event(1024-MouseMotion {'pos': (83, 26), 'rel': (1, 1), 'buttons': (0, 0, 0), 'touch': False, 'window': None})>\n",
      "<Event(1024-MouseMotion {'pos': (83, 27), 'rel': (0, 1), 'buttons': (0, 0, 0), 'touch': False, 'window': None})>\n",
      "<Event(1024-MouseMotion {'pos': (84, 27), 'rel': (1, 0), 'buttons': (0, 0, 0), 'touch': False, 'window': None})>\n",
      "<Event(1024-MouseMotion {'pos': (85, 27), 'rel': (1, 0), 'buttons': (0, 0, 0), 'touch': False, 'window': None})>\n",
      "<Event(1024-MouseMotion {'pos': (85, 28), 'rel': (0, 1), 'buttons': (0, 0, 0), 'touch': False, 'window': None})>\n",
      "<Event(1024-MouseMotion {'pos': (84, 30), 'rel': (-1, 2), 'buttons': (0, 0, 0), 'touch': False, 'window': None})>\n",
      "<Event(1024-MouseMotion {'pos': (83, 31), 'rel': (-1, 1), 'buttons': (0, 0, 0), 'touch': False, 'window': None})>\n",
      "<Event(1024-MouseMotion {'pos': (82, 32), 'rel': (-1, 1), 'buttons': (0, 0, 0), 'touch': False, 'window': None})>\n",
      "<Event(1024-MouseMotion {'pos': (81, 32), 'rel': (-1, 0), 'buttons': (0, 0, 0), 'touch': False, 'window': None})>\n",
      "<Event(1024-MouseMotion {'pos': (80, 33), 'rel': (-1, 1), 'buttons': (0, 0, 0), 'touch': False, 'window': None})>\n",
      "<Event(1024-MouseMotion {'pos': (79, 34), 'rel': (-1, 1), 'buttons': (0, 0, 0), 'touch': False, 'window': None})>\n",
      "<Event(1024-MouseMotion {'pos': (79, 35), 'rel': (0, 1), 'buttons': (0, 0, 0), 'touch': False, 'window': None})>\n",
      "<Event(1024-MouseMotion {'pos': (78, 35), 'rel': (-1, 0), 'buttons': (0, 0, 0), 'touch': False, 'window': None})>\n",
      "<Event(1024-MouseMotion {'pos': (77, 36), 'rel': (-1, 1), 'buttons': (0, 0, 0), 'touch': False, 'window': None})>\n",
      "<Event(1024-MouseMotion {'pos': (76, 38), 'rel': (-1, 2), 'buttons': (0, 0, 0), 'touch': False, 'window': None})>\n",
      "<Event(1024-MouseMotion {'pos': (75, 39), 'rel': (-1, 1), 'buttons': (0, 0, 0), 'touch': False, 'window': None})>\n",
      "<Event(1024-MouseMotion {'pos': (74, 40), 'rel': (-1, 1), 'buttons': (0, 0, 0), 'touch': False, 'window': None})>\n",
      "<Event(1024-MouseMotion {'pos': (72, 42), 'rel': (-2, 2), 'buttons': (0, 0, 0), 'touch': False, 'window': None})>\n",
      "<Event(1024-MouseMotion {'pos': (71, 45), 'rel': (-1, 3), 'buttons': (0, 0, 0), 'touch': False, 'window': None})>\n",
      "<Event(1024-MouseMotion {'pos': (71, 47), 'rel': (0, 2), 'buttons': (0, 0, 0), 'touch': False, 'window': None})>\n",
      "<Event(1024-MouseMotion {'pos': (70, 50), 'rel': (-1, 3), 'buttons': (0, 0, 0), 'touch': False, 'window': None})>\n",
      "<Event(1024-MouseMotion {'pos': (69, 53), 'rel': (-1, 3), 'buttons': (0, 0, 0), 'touch': False, 'window': None})>\n",
      "<Event(1024-MouseMotion {'pos': (69, 55), 'rel': (0, 2), 'buttons': (0, 0, 0), 'touch': False, 'window': None})>\n",
      "<Event(1024-MouseMotion {'pos': (69, 58), 'rel': (0, 3), 'buttons': (0, 0, 0), 'touch': False, 'window': None})>\n",
      "<Event(1024-MouseMotion {'pos': (69, 59), 'rel': (0, 1), 'buttons': (0, 0, 0), 'touch': False, 'window': None})>\n",
      "<Event(1024-MouseMotion {'pos': (68, 62), 'rel': (-1, 3), 'buttons': (0, 0, 0), 'touch': False, 'window': None})>\n",
      "<Event(1024-MouseMotion {'pos': (68, 64), 'rel': (0, 2), 'buttons': (0, 0, 0), 'touch': False, 'window': None})>\n",
      "<Event(1024-MouseMotion {'pos': (68, 66), 'rel': (0, 2), 'buttons': (0, 0, 0), 'touch': False, 'window': None})>\n",
      "<Event(1024-MouseMotion {'pos': (68, 68), 'rel': (0, 2), 'buttons': (0, 0, 0), 'touch': False, 'window': None})>\n",
      "<Event(1024-MouseMotion {'pos': (68, 70), 'rel': (0, 2), 'buttons': (0, 0, 0), 'touch': False, 'window': None})>\n",
      "<Event(1024-MouseMotion {'pos': (68, 71), 'rel': (0, 1), 'buttons': (0, 0, 0), 'touch': False, 'window': None})>\n",
      "<Event(1024-MouseMotion {'pos': (68, 73), 'rel': (0, 2), 'buttons': (0, 0, 0), 'touch': False, 'window': None})>\n",
      "<Event(1024-MouseMotion {'pos': (68, 75), 'rel': (0, 2), 'buttons': (0, 0, 0), 'touch': False, 'window': None})>\n",
      "<Event(1024-MouseMotion {'pos': (68, 76), 'rel': (0, 1), 'buttons': (0, 0, 0), 'touch': False, 'window': None})>\n",
      "<Event(1024-MouseMotion {'pos': (68, 77), 'rel': (0, 1), 'buttons': (0, 0, 0), 'touch': False, 'window': None})>\n",
      "<Event(1024-MouseMotion {'pos': (68, 79), 'rel': (0, 2), 'buttons': (0, 0, 0), 'touch': False, 'window': None})>\n",
      "<Event(1024-MouseMotion {'pos': (68, 80), 'rel': (0, 1), 'buttons': (0, 0, 0), 'touch': False, 'window': None})>\n",
      "<Event(1024-MouseMotion {'pos': (69, 81), 'rel': (1, 1), 'buttons': (0, 0, 0), 'touch': False, 'window': None})>\n",
      "<Event(1024-MouseMotion {'pos': (70, 83), 'rel': (1, 2), 'buttons': (0, 0, 0), 'touch': False, 'window': None})>\n",
      "<Event(1024-MouseMotion {'pos': (71, 84), 'rel': (1, 1), 'buttons': (0, 0, 0), 'touch': False, 'window': None})>\n",
      "<Event(1024-MouseMotion {'pos': (71, 85), 'rel': (0, 1), 'buttons': (0, 0, 0), 'touch': False, 'window': None})>\n",
      "<Event(1024-MouseMotion {'pos': (73, 87), 'rel': (2, 2), 'buttons': (0, 0, 0), 'touch': False, 'window': None})>\n",
      "<Event(1024-MouseMotion {'pos': (74, 87), 'rel': (1, 0), 'buttons': (0, 0, 0), 'touch': False, 'window': None})>\n",
      "<Event(1024-MouseMotion {'pos': (76, 88), 'rel': (2, 1), 'buttons': (0, 0, 0), 'touch': False, 'window': None})>\n",
      "<Event(1024-MouseMotion {'pos': (79, 90), 'rel': (3, 2), 'buttons': (0, 0, 0), 'touch': False, 'window': None})>\n",
      "<Event(1024-MouseMotion {'pos': (83, 91), 'rel': (4, 1), 'buttons': (0, 0, 0), 'touch': False, 'window': None})>\n",
      "<Event(1024-MouseMotion {'pos': (86, 92), 'rel': (3, 1), 'buttons': (0, 0, 0), 'touch': False, 'window': None})>\n",
      "<Event(1024-MouseMotion {'pos': (88, 92), 'rel': (2, 0), 'buttons': (0, 0, 0), 'touch': False, 'window': None})>\n",
      "<Event(1024-MouseMotion {'pos': (91, 93), 'rel': (3, 1), 'buttons': (0, 0, 0), 'touch': False, 'window': None})>\n",
      "<Event(1024-MouseMotion {'pos': (94, 93), 'rel': (3, 0), 'buttons': (0, 0, 0), 'touch': False, 'window': None})>\n",
      "<Event(1024-MouseMotion {'pos': (96, 93), 'rel': (2, 0), 'buttons': (0, 0, 0), 'touch': False, 'window': None})>\n",
      "<Event(1024-MouseMotion {'pos': (99, 93), 'rel': (3, 0), 'buttons': (0, 0, 0), 'touch': False, 'window': None})>\n",
      "<Event(1024-MouseMotion {'pos': (101, 93), 'rel': (2, 0), 'buttons': (0, 0, 0), 'touch': False, 'window': None})>\n",
      "<Event(1024-MouseMotion {'pos': (103, 92), 'rel': (2, -1), 'buttons': (0, 0, 0), 'touch': False, 'window': None})>\n",
      "<Event(1024-MouseMotion {'pos': (105, 92), 'rel': (2, 0), 'buttons': (0, 0, 0), 'touch': False, 'window': None})>\n",
      "<Event(1024-MouseMotion {'pos': (106, 92), 'rel': (1, 0), 'buttons': (0, 0, 0), 'touch': False, 'window': None})>\n",
      "<Event(1024-MouseMotion {'pos': (107, 91), 'rel': (1, -1), 'buttons': (0, 0, 0), 'touch': False, 'window': None})>\n",
      "<Event(1024-MouseMotion {'pos': (108, 90), 'rel': (1, -1), 'buttons': (0, 0, 0), 'touch': False, 'window': None})>\n",
      "<Event(1024-MouseMotion {'pos': (109, 89), 'rel': (1, -1), 'buttons': (0, 0, 0), 'touch': False, 'window': None})>\n",
      "<Event(1024-MouseMotion {'pos': (110, 88), 'rel': (1, -1), 'buttons': (0, 0, 0), 'touch': False, 'window': None})>\n",
      "<Event(1024-MouseMotion {'pos': (111, 87), 'rel': (1, -1), 'buttons': (0, 0, 0), 'touch': False, 'window': None})>\n",
      "<Event(1024-MouseMotion {'pos': (111, 85), 'rel': (0, -2), 'buttons': (0, 0, 0), 'touch': False, 'window': None})>\n",
      "<Event(1024-MouseMotion {'pos': (113, 83), 'rel': (2, -2), 'buttons': (0, 0, 0), 'touch': False, 'window': None})>\n",
      "<Event(1024-MouseMotion {'pos': (114, 82), 'rel': (1, -1), 'buttons': (0, 0, 0), 'touch': False, 'window': None})>\n",
      "<Event(1024-MouseMotion {'pos': (114, 79), 'rel': (0, -3), 'buttons': (0, 0, 0), 'touch': False, 'window': None})>\n",
      "<Event(1024-MouseMotion {'pos': (115, 77), 'rel': (1, -2), 'buttons': (0, 0, 0), 'touch': False, 'window': None})>\n",
      "<Event(1024-MouseMotion {'pos': (116, 75), 'rel': (1, -2), 'buttons': (0, 0, 0), 'touch': False, 'window': None})>\n",
      "<Event(1024-MouseMotion {'pos': (117, 73), 'rel': (1, -2), 'buttons': (0, 0, 0), 'touch': False, 'window': None})>\n",
      "<Event(1024-MouseMotion {'pos': (117, 71), 'rel': (0, -2), 'buttons': (0, 0, 0), 'touch': False, 'window': None})>\n",
      "<Event(1024-MouseMotion {'pos': (117, 70), 'rel': (0, -1), 'buttons': (0, 0, 0), 'touch': False, 'window': None})>\n",
      "<Event(1024-MouseMotion {'pos': (117, 69), 'rel': (0, -1), 'buttons': (0, 0, 0), 'touch': False, 'window': None})>\n",
      "<Event(1024-MouseMotion {'pos': (117, 67), 'rel': (0, -2), 'buttons': (0, 0, 0), 'touch': False, 'window': None})>\n",
      "<Event(1024-MouseMotion {'pos': (118, 67), 'rel': (1, 0), 'buttons': (0, 0, 0), 'touch': False, 'window': None})>\n",
      "<Event(1024-MouseMotion {'pos': (118, 66), 'rel': (0, -1), 'buttons': (0, 0, 0), 'touch': False, 'window': None})>\n",
      "<Event(1024-MouseMotion {'pos': (118, 65), 'rel': (0, -1), 'buttons': (0, 0, 0), 'touch': False, 'window': None})>\n",
      "<Event(1024-MouseMotion {'pos': (118, 64), 'rel': (0, -1), 'buttons': (0, 0, 0), 'touch': False, 'window': None})>\n",
      "<Event(1024-MouseMotion {'pos': (118, 63), 'rel': (0, -1), 'buttons': (0, 0, 0), 'touch': False, 'window': None})>\n",
      "<Event(1024-MouseMotion {'pos': (117, 62), 'rel': (-1, -1), 'buttons': (0, 0, 0), 'touch': False, 'window': None})>\n",
      "<Event(1024-MouseMotion {'pos': (115, 60), 'rel': (-2, -2), 'buttons': (0, 0, 0), 'touch': False, 'window': None})>\n",
      "<Event(1024-MouseMotion {'pos': (114, 59), 'rel': (-1, -1), 'buttons': (0, 0, 0), 'touch': False, 'window': None})>\n",
      "<Event(1024-MouseMotion {'pos': (113, 58), 'rel': (-1, -1), 'buttons': (0, 0, 0), 'touch': False, 'window': None})>\n",
      "<Event(1024-MouseMotion {'pos': (111, 55), 'rel': (-2, -3), 'buttons': (0, 0, 0), 'touch': False, 'window': None})>\n",
      "<Event(1024-MouseMotion {'pos': (109, 54), 'rel': (-2, -1), 'buttons': (0, 0, 0), 'touch': False, 'window': None})>\n",
      "<Event(1024-MouseMotion {'pos': (107, 53), 'rel': (-2, -1), 'buttons': (0, 0, 0), 'touch': False, 'window': None})>\n",
      "<Event(1024-MouseMotion {'pos': (105, 51), 'rel': (-2, -2), 'buttons': (0, 0, 0), 'touch': False, 'window': None})>\n",
      "<Event(1024-MouseMotion {'pos': (104, 50), 'rel': (-1, -1), 'buttons': (0, 0, 0), 'touch': False, 'window': None})>\n",
      "<Event(1024-MouseMotion {'pos': (103, 50), 'rel': (-1, 0), 'buttons': (0, 0, 0), 'touch': False, 'window': None})>\n",
      "<Event(1024-MouseMotion {'pos': (101, 49), 'rel': (-2, -1), 'buttons': (0, 0, 0), 'touch': False, 'window': None})>\n",
      "<Event(1024-MouseMotion {'pos': (100, 48), 'rel': (-1, -1), 'buttons': (0, 0, 0), 'touch': False, 'window': None})>\n",
      "<Event(1024-MouseMotion {'pos': (99, 47), 'rel': (-1, -1), 'buttons': (0, 0, 0), 'touch': False, 'window': None})>\n",
      "<Event(1024-MouseMotion {'pos': (97, 47), 'rel': (-2, 0), 'buttons': (0, 0, 0), 'touch': False, 'window': None})>\n",
      "<Event(1024-MouseMotion {'pos': (96, 47), 'rel': (-1, 0), 'buttons': (0, 0, 0), 'touch': False, 'window': None})>\n",
      "<Event(1024-MouseMotion {'pos': (95, 47), 'rel': (-1, 0), 'buttons': (0, 0, 0), 'touch': False, 'window': None})>\n",
      "<Event(1024-MouseMotion {'pos': (93, 47), 'rel': (-2, 0), 'buttons': (0, 0, 0), 'touch': False, 'window': None})>\n",
      "<Event(1024-MouseMotion {'pos': (92, 47), 'rel': (-1, 0), 'buttons': (0, 0, 0), 'touch': False, 'window': None})>\n",
      "<Event(1024-MouseMotion {'pos': (91, 47), 'rel': (-1, 0), 'buttons': (0, 0, 0), 'touch': False, 'window': None})>\n",
      "<Event(1024-MouseMotion {'pos': (89, 47), 'rel': (-2, 0), 'buttons': (0, 0, 0), 'touch': False, 'window': None})>\n",
      "<Event(1024-MouseMotion {'pos': (88, 47), 'rel': (-1, 0), 'buttons': (0, 0, 0), 'touch': False, 'window': None})>\n",
      "<Event(1024-MouseMotion {'pos': (87, 47), 'rel': (-1, 0), 'buttons': (0, 0, 0), 'touch': False, 'window': None})>\n",
      "<Event(1024-MouseMotion {'pos': (86, 47), 'rel': (-1, 0), 'buttons': (0, 0, 0), 'touch': False, 'window': None})>\n",
      "<Event(1024-MouseMotion {'pos': (85, 47), 'rel': (-1, 0), 'buttons': (0, 0, 0), 'touch': False, 'window': None})>\n",
      "<Event(1024-MouseMotion {'pos': (83, 47), 'rel': (-2, 0), 'buttons': (0, 0, 0), 'touch': False, 'window': None})>\n",
      "<Event(1024-MouseMotion {'pos': (81, 47), 'rel': (-2, 0), 'buttons': (0, 0, 0), 'touch': False, 'window': None})>\n",
      "<Event(1024-MouseMotion {'pos': (80, 47), 'rel': (-1, 0), 'buttons': (0, 0, 0), 'touch': False, 'window': None})>\n",
      "<Event(1024-MouseMotion {'pos': (78, 47), 'rel': (-2, 0), 'buttons': (0, 0, 0), 'touch': False, 'window': None})>\n",
      "<Event(1024-MouseMotion {'pos': (76, 47), 'rel': (-2, 0), 'buttons': (0, 0, 0), 'touch': False, 'window': None})>\n",
      "<Event(1024-MouseMotion {'pos': (75, 47), 'rel': (-1, 0), 'buttons': (0, 0, 0), 'touch': False, 'window': None})>\n",
      "<Event(1024-MouseMotion {'pos': (74, 48), 'rel': (-1, 1), 'buttons': (0, 0, 0), 'touch': False, 'window': None})>\n",
      "<Event(1024-MouseMotion {'pos': (72, 48), 'rel': (-2, 0), 'buttons': (0, 0, 0), 'touch': False, 'window': None})>\n",
      "<Event(1024-MouseMotion {'pos': (71, 49), 'rel': (-1, 1), 'buttons': (0, 0, 0), 'touch': False, 'window': None})>\n",
      "<Event(1024-MouseMotion {'pos': (69, 49), 'rel': (-2, 0), 'buttons': (0, 0, 0), 'touch': False, 'window': None})>\n",
      "<Event(1024-MouseMotion {'pos': (69, 50), 'rel': (0, 1), 'buttons': (0, 0, 0), 'touch': False, 'window': None})>\n",
      "<Event(1024-MouseMotion {'pos': (68, 50), 'rel': (-1, 0), 'buttons': (0, 0, 0), 'touch': False, 'window': None})>\n",
      "<Event(1024-MouseMotion {'pos': (67, 50), 'rel': (-1, 0), 'buttons': (0, 0, 0), 'touch': False, 'window': None})>\n",
      "<Event(1024-MouseMotion {'pos': (66, 50), 'rel': (-1, 0), 'buttons': (0, 0, 0), 'touch': False, 'window': None})>\n",
      "<Event(1024-MouseMotion {'pos': (65, 50), 'rel': (-1, 0), 'buttons': (0, 0, 0), 'touch': False, 'window': None})>\n",
      "<Event(1024-MouseMotion {'pos': (64, 49), 'rel': (-1, -1), 'buttons': (0, 0, 0), 'touch': False, 'window': None})>\n",
      "<Event(1024-MouseMotion {'pos': (63, 49), 'rel': (-1, 0), 'buttons': (0, 0, 0), 'touch': False, 'window': None})>\n",
      "<Event(1024-MouseMotion {'pos': (63, 48), 'rel': (0, -1), 'buttons': (0, 0, 0), 'touch': False, 'window': None})>\n",
      "<Event(1024-MouseMotion {'pos': (62, 48), 'rel': (-1, 0), 'buttons': (0, 0, 0), 'touch': False, 'window': None})>\n",
      "<Event(1024-MouseMotion {'pos': (61, 48), 'rel': (-1, 0), 'buttons': (0, 0, 0), 'touch': False, 'window': None})>\n",
      "<Event(1024-MouseMotion {'pos': (60, 47), 'rel': (-1, -1), 'buttons': (0, 0, 0), 'touch': False, 'window': None})>\n",
      "<Event(1024-MouseMotion {'pos': (59, 47), 'rel': (-1, 0), 'buttons': (0, 0, 0), 'touch': False, 'window': None})>\n",
      "<Event(1024-MouseMotion {'pos': (59, 46), 'rel': (0, -1), 'buttons': (0, 0, 0), 'touch': False, 'window': None})>\n",
      "<Event(1024-MouseMotion {'pos': (59, 45), 'rel': (0, -1), 'buttons': (0, 0, 0), 'touch': False, 'window': None})>\n",
      "<Event(1024-MouseMotion {'pos': (59, 44), 'rel': (0, -1), 'buttons': (0, 0, 0), 'touch': False, 'window': None})>\n",
      "<Event(1024-MouseMotion {'pos': (60, 44), 'rel': (1, 0), 'buttons': (0, 0, 0), 'touch': False, 'window': None})>\n",
      "<Event(1024-MouseMotion {'pos': (61, 44), 'rel': (1, 0), 'buttons': (0, 0, 0), 'touch': False, 'window': None})>\n",
      "<Event(1024-MouseMotion {'pos': (62, 44), 'rel': (1, 0), 'buttons': (0, 0, 0), 'touch': False, 'window': None})>\n",
      "<Event(1024-MouseMotion {'pos': (63, 44), 'rel': (1, 0), 'buttons': (0, 0, 0), 'touch': False, 'window': None})>\n",
      "<Event(1024-MouseMotion {'pos': (65, 44), 'rel': (2, 0), 'buttons': (0, 0, 0), 'touch': False, 'window': None})>\n",
      "<Event(1024-MouseMotion {'pos': (67, 44), 'rel': (2, 0), 'buttons': (0, 0, 0), 'touch': False, 'window': None})>\n",
      "<Event(1024-MouseMotion {'pos': (68, 44), 'rel': (1, 0), 'buttons': (0, 0, 0), 'touch': False, 'window': None})>\n",
      "<Event(1024-MouseMotion {'pos': (70, 45), 'rel': (2, 1), 'buttons': (0, 0, 0), 'touch': False, 'window': None})>\n",
      "<Event(1024-MouseMotion {'pos': (71, 46), 'rel': (1, 1), 'buttons': (0, 0, 0), 'touch': False, 'window': None})>\n",
      "<Event(1024-MouseMotion {'pos': (72, 47), 'rel': (1, 1), 'buttons': (0, 0, 0), 'touch': False, 'window': None})>\n",
      "<Event(1024-MouseMotion {'pos': (74, 47), 'rel': (2, 0), 'buttons': (0, 0, 0), 'touch': False, 'window': None})>\n",
      "<Event(1024-MouseMotion {'pos': (75, 48), 'rel': (1, 1), 'buttons': (0, 0, 0), 'touch': False, 'window': None})>\n",
      "<Event(1024-MouseMotion {'pos': (78, 50), 'rel': (3, 2), 'buttons': (0, 0, 0), 'touch': False, 'window': None})>\n",
      "<Event(1024-MouseMotion {'pos': (78, 51), 'rel': (0, 1), 'buttons': (0, 0, 0), 'touch': False, 'window': None})>\n",
      "<Event(1024-MouseMotion {'pos': (79, 51), 'rel': (1, 0), 'buttons': (0, 0, 0), 'touch': False, 'window': None})>\n",
      "<Event(1024-MouseMotion {'pos': (81, 52), 'rel': (2, 1), 'buttons': (0, 0, 0), 'touch': False, 'window': None})>\n",
      "<Event(1024-MouseMotion {'pos': (81, 53), 'rel': (0, 1), 'buttons': (0, 0, 0), 'touch': False, 'window': None})>\n",
      "<Event(1024-MouseMotion {'pos': (82, 54), 'rel': (1, 1), 'buttons': (0, 0, 0), 'touch': False, 'window': None})>\n",
      "<Event(1024-MouseMotion {'pos': (83, 55), 'rel': (1, 1), 'buttons': (0, 0, 0), 'touch': False, 'window': None})>\n",
      "<Event(1024-MouseMotion {'pos': (84, 55), 'rel': (1, 0), 'buttons': (0, 0, 0), 'touch': False, 'window': None})>\n",
      "<Event(1024-MouseMotion {'pos': (84, 56), 'rel': (0, 1), 'buttons': (0, 0, 0), 'touch': False, 'window': None})>\n",
      "<Event(1024-MouseMotion {'pos': (85, 57), 'rel': (1, 1), 'buttons': (0, 0, 0), 'touch': False, 'window': None})>\n",
      "<Event(1024-MouseMotion {'pos': (86, 57), 'rel': (1, 0), 'buttons': (0, 0, 0), 'touch': False, 'window': None})>\n",
      "<Event(1024-MouseMotion {'pos': (86, 58), 'rel': (0, 1), 'buttons': (0, 0, 0), 'touch': False, 'window': None})>\n",
      "<Event(1024-MouseMotion {'pos': (87, 58), 'rel': (1, 0), 'buttons': (0, 0, 0), 'touch': False, 'window': None})>\n",
      "<Event(1024-MouseMotion {'pos': (87, 59), 'rel': (0, 1), 'buttons': (0, 0, 0), 'touch': False, 'window': None})>\n",
      "<Event(1024-MouseMotion {'pos': (88, 59), 'rel': (1, 0), 'buttons': (0, 0, 0), 'touch': False, 'window': None})>\n",
      "<Event(1024-MouseMotion {'pos': (89, 59), 'rel': (1, 0), 'buttons': (0, 0, 0), 'touch': False, 'window': None})>\n",
      "<Event(1024-MouseMotion {'pos': (90, 59), 'rel': (1, 0), 'buttons': (0, 0, 0), 'touch': False, 'window': None})>\n",
      "<Event(1024-MouseMotion {'pos': (91, 60), 'rel': (1, 1), 'buttons': (0, 0, 0), 'touch': False, 'window': None})>\n",
      "<Event(1024-MouseMotion {'pos': (91, 61), 'rel': (0, 1), 'buttons': (0, 0, 0), 'touch': False, 'window': None})>\n",
      "<Event(1024-MouseMotion {'pos': (93, 61), 'rel': (2, 0), 'buttons': (0, 0, 0), 'touch': False, 'window': None})>\n",
      "<Event(1024-MouseMotion {'pos': (95, 61), 'rel': (2, 0), 'buttons': (0, 0, 0), 'touch': False, 'window': None})>\n",
      "<Event(1024-MouseMotion {'pos': (95, 62), 'rel': (0, 1), 'buttons': (0, 0, 0), 'touch': False, 'window': None})>\n",
      "<Event(1024-MouseMotion {'pos': (96, 63), 'rel': (1, 1), 'buttons': (0, 0, 0), 'touch': False, 'window': None})>\n",
      "<Event(1024-MouseMotion {'pos': (97, 63), 'rel': (1, 0), 'buttons': (0, 0, 0), 'touch': False, 'window': None})>\n",
      "<Event(1024-MouseMotion {'pos': (98, 63), 'rel': (1, 0), 'buttons': (0, 0, 0), 'touch': False, 'window': None})>\n",
      "<Event(1024-MouseMotion {'pos': (99, 63), 'rel': (1, 0), 'buttons': (0, 0, 0), 'touch': False, 'window': None})>\n",
      "<Event(1024-MouseMotion {'pos': (99, 64), 'rel': (0, 1), 'buttons': (0, 0, 0), 'touch': False, 'window': None})>\n",
      "<Event(1024-MouseMotion {'pos': (99, 65), 'rel': (0, 1), 'buttons': (0, 0, 0), 'touch': False, 'window': None})>\n",
      "<Event(1024-MouseMotion {'pos': (100, 65), 'rel': (1, 0), 'buttons': (0, 0, 0), 'touch': False, 'window': None})>\n",
      "<Event(1024-MouseMotion {'pos': (101, 65), 'rel': (1, 0), 'buttons': (0, 0, 0), 'touch': False, 'window': None})>\n",
      "<Event(1024-MouseMotion {'pos': (101, 66), 'rel': (0, 1), 'buttons': (0, 0, 0), 'touch': False, 'window': None})>\n",
      "<Event(1024-MouseMotion {'pos': (102, 66), 'rel': (1, 0), 'buttons': (0, 0, 0), 'touch': False, 'window': None})>\n",
      "<Event(1024-MouseMotion {'pos': (103, 67), 'rel': (1, 1), 'buttons': (0, 0, 0), 'touch': False, 'window': None})>\n",
      "<Event(1024-MouseMotion {'pos': (104, 67), 'rel': (1, 0), 'buttons': (0, 0, 0), 'touch': False, 'window': None})>\n",
      "<Event(1024-MouseMotion {'pos': (105, 68), 'rel': (1, 1), 'buttons': (0, 0, 0), 'touch': False, 'window': None})>\n",
      "<Event(1024-MouseMotion {'pos': (106, 69), 'rel': (1, 1), 'buttons': (0, 0, 0), 'touch': False, 'window': None})>\n",
      "<Event(1024-MouseMotion {'pos': (107, 69), 'rel': (1, 0), 'buttons': (0, 0, 0), 'touch': False, 'window': None})>\n",
      "<Event(1024-MouseMotion {'pos': (107, 70), 'rel': (0, 1), 'buttons': (0, 0, 0), 'touch': False, 'window': None})>\n",
      "<Event(1024-MouseMotion {'pos': (108, 71), 'rel': (1, 1), 'buttons': (0, 0, 0), 'touch': False, 'window': None})>\n",
      "<Event(1024-MouseMotion {'pos': (109, 71), 'rel': (1, 0), 'buttons': (0, 0, 0), 'touch': False, 'window': None})>\n",
      "<Event(1024-MouseMotion {'pos': (111, 72), 'rel': (2, 1), 'buttons': (0, 0, 0), 'touch': False, 'window': None})>\n",
      "<Event(1024-MouseMotion {'pos': (111, 73), 'rel': (0, 1), 'buttons': (0, 0, 0), 'touch': False, 'window': None})>\n",
      "<Event(1024-MouseMotion {'pos': (111, 74), 'rel': (0, 1), 'buttons': (0, 0, 0), 'touch': False, 'window': None})>\n",
      "<Event(1024-MouseMotion {'pos': (112, 75), 'rel': (1, 1), 'buttons': (0, 0, 0), 'touch': False, 'window': None})>\n",
      "<Event(1024-MouseMotion {'pos': (114, 75), 'rel': (2, 0), 'buttons': (0, 0, 0), 'touch': False, 'window': None})>\n",
      "<Event(1024-MouseMotion {'pos': (114, 76), 'rel': (0, 1), 'buttons': (0, 0, 0), 'touch': False, 'window': None})>\n",
      "<Event(1024-MouseMotion {'pos': (115, 77), 'rel': (1, 1), 'buttons': (0, 0, 0), 'touch': False, 'window': None})>\n",
      "<Event(1024-MouseMotion {'pos': (116, 78), 'rel': (1, 1), 'buttons': (0, 0, 0), 'touch': False, 'window': None})>\n",
      "<Event(1024-MouseMotion {'pos': (117, 78), 'rel': (1, 0), 'buttons': (0, 0, 0), 'touch': False, 'window': None})>\n",
      "<Event(1024-MouseMotion {'pos': (118, 79), 'rel': (1, 1), 'buttons': (0, 0, 0), 'touch': False, 'window': None})>\n",
      "<Event(1024-MouseMotion {'pos': (119, 79), 'rel': (1, 0), 'buttons': (0, 0, 0), 'touch': False, 'window': None})>\n",
      "<Event(1024-MouseMotion {'pos': (120, 79), 'rel': (1, 0), 'buttons': (0, 0, 0), 'touch': False, 'window': None})>\n",
      "<Event(1024-MouseMotion {'pos': (120, 80), 'rel': (0, 1), 'buttons': (0, 0, 0), 'touch': False, 'window': None})>\n",
      "<Event(1024-MouseMotion {'pos': (121, 80), 'rel': (1, 0), 'buttons': (0, 0, 0), 'touch': False, 'window': None})>\n",
      "<Event(1024-MouseMotion {'pos': (122, 81), 'rel': (1, 1), 'buttons': (0, 0, 0), 'touch': False, 'window': None})>\n",
      "<Event(1024-MouseMotion {'pos': (123, 82), 'rel': (1, 1), 'buttons': (0, 0, 0), 'touch': False, 'window': None})>\n",
      "<Event(1024-MouseMotion {'pos': (124, 82), 'rel': (1, 0), 'buttons': (0, 0, 0), 'touch': False, 'window': None})>\n",
      "<Event(1024-MouseMotion {'pos': (126, 83), 'rel': (2, 1), 'buttons': (0, 0, 0), 'touch': False, 'window': None})>\n",
      "<Event(1024-MouseMotion {'pos': (127, 84), 'rel': (1, 1), 'buttons': (0, 0, 0), 'touch': False, 'window': None})>\n",
      "<Event(1024-MouseMotion {'pos': (128, 85), 'rel': (1, 1), 'buttons': (0, 0, 0), 'touch': False, 'window': None})>\n",
      "<Event(1024-MouseMotion {'pos': (130, 86), 'rel': (2, 1), 'buttons': (0, 0, 0), 'touch': False, 'window': None})>\n",
      "<Event(1024-MouseMotion {'pos': (131, 87), 'rel': (1, 1), 'buttons': (0, 0, 0), 'touch': False, 'window': None})>\n",
      "<Event(1024-MouseMotion {'pos': (134, 87), 'rel': (3, 0), 'buttons': (0, 0, 0), 'touch': False, 'window': None})>\n",
      "<Event(1024-MouseMotion {'pos': (135, 89), 'rel': (1, 2), 'buttons': (0, 0, 0), 'touch': False, 'window': None})>\n",
      "<Event(1024-MouseMotion {'pos': (136, 90), 'rel': (1, 1), 'buttons': (0, 0, 0), 'touch': False, 'window': None})>\n",
      "<Event(1024-MouseMotion {'pos': (137, 91), 'rel': (1, 1), 'buttons': (0, 0, 0), 'touch': False, 'window': None})>\n",
      "<Event(1024-MouseMotion {'pos': (138, 91), 'rel': (1, 0), 'buttons': (0, 0, 0), 'touch': False, 'window': None})>\n",
      "<Event(1024-MouseMotion {'pos': (139, 91), 'rel': (1, 0), 'buttons': (0, 0, 0), 'touch': False, 'window': None})>\n",
      "<Event(1024-MouseMotion {'pos': (140, 93), 'rel': (1, 2), 'buttons': (0, 0, 0), 'touch': False, 'window': None})>\n",
      "<Event(1024-MouseMotion {'pos': (141, 94), 'rel': (1, 1), 'buttons': (0, 0, 0), 'touch': False, 'window': None})>\n",
      "<Event(1024-MouseMotion {'pos': (142, 95), 'rel': (1, 1), 'buttons': (0, 0, 0), 'touch': False, 'window': None})>\n",
      "<Event(1024-MouseMotion {'pos': (143, 95), 'rel': (1, 0), 'buttons': (0, 0, 0), 'touch': False, 'window': None})>\n",
      "<Event(1024-MouseMotion {'pos': (143, 96), 'rel': (0, 1), 'buttons': (0, 0, 0), 'touch': False, 'window': None})>\n",
      "<Event(1024-MouseMotion {'pos': (143, 97), 'rel': (0, 1), 'buttons': (0, 0, 0), 'touch': False, 'window': None})>\n",
      "<Event(1024-MouseMotion {'pos': (143, 96), 'rel': (0, -1), 'buttons': (0, 0, 0), 'touch': False, 'window': None})>\n",
      "<Event(1024-MouseMotion {'pos': (144, 95), 'rel': (1, -1), 'buttons': (0, 0, 0), 'touch': False, 'window': None})>\n",
      "<Event(1024-MouseMotion {'pos': (145, 94), 'rel': (1, -1), 'buttons': (0, 0, 0), 'touch': False, 'window': None})>\n",
      "<Event(1024-MouseMotion {'pos': (145, 92), 'rel': (0, -2), 'buttons': (0, 0, 0), 'touch': False, 'window': None})>\n",
      "<Event(1024-MouseMotion {'pos': (147, 90), 'rel': (2, -2), 'buttons': (0, 0, 0), 'touch': False, 'window': None})>\n",
      "<Event(1024-MouseMotion {'pos': (147, 87), 'rel': (0, -3), 'buttons': (0, 0, 0), 'touch': False, 'window': None})>\n",
      "<Event(1024-MouseMotion {'pos': (149, 84), 'rel': (2, -3), 'buttons': (0, 0, 0), 'touch': False, 'window': None})>\n",
      "<Event(1024-MouseMotion {'pos': (151, 82), 'rel': (2, -2), 'buttons': (0, 0, 0), 'touch': False, 'window': None})>\n",
      "<Event(1024-MouseMotion {'pos': (152, 79), 'rel': (1, -3), 'buttons': (0, 0, 0), 'touch': False, 'window': None})>\n",
      "<Event(1024-MouseMotion {'pos': (155, 75), 'rel': (3, -4), 'buttons': (0, 0, 0), 'touch': False, 'window': None})>\n",
      "<Event(1024-MouseMotion {'pos': (156, 72), 'rel': (1, -3), 'buttons': (0, 0, 0), 'touch': False, 'window': None})>\n",
      "<Event(1024-MouseMotion {'pos': (159, 69), 'rel': (3, -3), 'buttons': (0, 0, 0), 'touch': False, 'window': None})>\n",
      "<Event(1024-MouseMotion {'pos': (162, 65), 'rel': (3, -4), 'buttons': (0, 0, 0), 'touch': False, 'window': None})>\n",
      "<Event(1024-MouseMotion {'pos': (164, 62), 'rel': (2, -3), 'buttons': (0, 0, 0), 'touch': False, 'window': None})>\n",
      "<Event(1024-MouseMotion {'pos': (167, 57), 'rel': (3, -5), 'buttons': (0, 0, 0), 'touch': False, 'window': None})>\n",
      "<Event(1024-MouseMotion {'pos': (171, 51), 'rel': (4, -6), 'buttons': (0, 0, 0), 'touch': False, 'window': None})>\n",
      "<Event(1024-MouseMotion {'pos': (174, 47), 'rel': (3, -4), 'buttons': (0, 0, 0), 'touch': False, 'window': None})>\n",
      "<Event(1024-MouseMotion {'pos': (179, 40), 'rel': (5, -7), 'buttons': (0, 0, 0), 'touch': False, 'window': None})>\n",
      "<Event(1024-MouseMotion {'pos': (182, 35), 'rel': (3, -5), 'buttons': (0, 0, 0), 'touch': False, 'window': None})>\n",
      "<Event(1024-MouseMotion {'pos': (186, 31), 'rel': (4, -4), 'buttons': (0, 0, 0), 'touch': False, 'window': None})>\n",
      "<Event(1024-MouseMotion {'pos': (188, 26), 'rel': (2, -5), 'buttons': (0, 0, 0), 'touch': False, 'window': None})>\n",
      "<Event(1024-MouseMotion {'pos': (191, 23), 'rel': (3, -3), 'buttons': (0, 0, 0), 'touch': False, 'window': None})>\n",
      "<Event(1024-MouseMotion {'pos': (194, 19), 'rel': (3, -4), 'buttons': (0, 0, 0), 'touch': False, 'window': None})>\n",
      "<Event(1024-MouseMotion {'pos': (196, 15), 'rel': (2, -4), 'buttons': (0, 0, 0), 'touch': False, 'window': None})>\n",
      "<Event(1024-MouseMotion {'pos': (199, 12), 'rel': (3, -3), 'buttons': (0, 0, 0), 'touch': False, 'window': None})>\n",
      "<Event(1024-MouseMotion {'pos': (200, 10), 'rel': (1, -2), 'buttons': (0, 0, 0), 'touch': False, 'window': None})>\n",
      "<Event(1024-MouseMotion {'pos': (203, 7), 'rel': (3, -3), 'buttons': (0, 0, 0), 'touch': False, 'window': None})>\n",
      "<Event(1024-MouseMotion {'pos': (204, 5), 'rel': (1, -2), 'buttons': (0, 0, 0), 'touch': False, 'window': None})>\n",
      "<Event(1024-MouseMotion {'pos': (207, 3), 'rel': (3, -2), 'buttons': (0, 0, 0), 'touch': False, 'window': None})>\n",
      "<Event(1024-MouseMotion {'pos': (208, 3), 'rel': (1, 0), 'buttons': (0, 0, 0), 'touch': False, 'window': None})>\n",
      "<Event(1024-MouseMotion {'pos': (210, 1), 'rel': (2, -2), 'buttons': (0, 0, 0), 'touch': False, 'window': None})>\n",
      "<Event(1024-MouseMotion {'pos': (210, 0), 'rel': (0, -2), 'buttons': (0, 0, 0), 'touch': False, 'window': None})>\n",
      "<Event(32768-ActiveEvent {'gain': 0, 'state': 1})>\n",
      "<Event(32784-WindowLeave {'window': None})>\n"
     ]
    }
   ],
   "source": [
    "print(\"Event test window created. Interact with it now (press keys, click, move mouse)...\")\n",
    "\n",
    "# Loop for a short time to catch events\n",
    "# In a real game, this loop runs continuously\n",
    "start_time = pygame.time.get_ticks()\n",
    "duration = 5000 # Run for 5 seconds (5000 milliseconds)\n",
    "\n",
    "running_events = True\n",
    "while running_events and pygame.time.get_ticks() - start_time < duration:\n",
    "    for event in pygame.event.get():\n",
    "        print(event) # Print the event object\n",
    "        if event.type == pygame.QUIT:\n",
    "            running_events = False\n",
    "            print(\"QUIT event detected.\")\n",
    "        # Add more specific checks if desired\n",
    "        # if event.type == pygame.KEYDOWN:\n",
    "        #    print(f\"Key pressed: {event.key} ({pygame.key.name(event.key)})\")\n",
    "        # if event.type == pygame.MOUSEBUTTONDOWN:\n",
    "        #    print(f\"Mouse button down: {event.button} at {event.pos}\")\n",
    "\n",
    "    # Keep the window responsive (needed in loops)\n",
    "    pygame.display.flip()\n",
    "\n"
   ]
  },
  {
   "cell_type": "code",
   "execution_count": 35,
   "id": "ae061fc5",
   "metadata": {},
   "outputs": [
    {
     "name": "stdout",
     "output_type": "stream",
     "text": [
      "Event loop finished.\n",
      "Pygame uninitialized.\n"
     ]
    }
   ],
   "source": [
    "print(\"Event loop finished.\")\n",
    "pygame.quit()\n",
    "print(\"Pygame uninitialized.\")"
   ]
  },
  {
   "cell_type": "code",
   "execution_count": null,
   "id": "3c2f21b6",
   "metadata": {},
   "outputs": [],
   "source": []
  }
 ],
 "metadata": {
  "kernelspec": {
   "display_name": "Python 3",
   "language": "python",
   "name": "python3"
  },
  "language_info": {
   "codemirror_mode": {
    "name": "ipython",
    "version": 3
   },
   "file_extension": ".py",
   "mimetype": "text/x-python",
   "name": "python",
   "nbconvert_exporter": "python",
   "pygments_lexer": "ipython3",
   "version": "3.11.4"
  }
 },
 "nbformat": 4,
 "nbformat_minor": 5
}
